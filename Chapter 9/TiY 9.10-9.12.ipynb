{
 "cells": [
  {
   "cell_type": "code",
   "execution_count": 1,
   "metadata": {},
   "outputs": [
    {
     "name": "stdout",
     "output_type": "stream",
     "text": [
      "Peta'S Pitas serves Jamaican food.\n"
     ]
    }
   ],
   "source": [
    "from restaurant import Restaurant\n",
    "\n",
    "petas = Restaurant(\"Peta's Pitas\", \"Jamaican\")\n",
    "print(petas.describe_restaurant())"
   ]
  },
  {
   "cell_type": "code",
   "execution_count": 2,
   "metadata": {},
   "outputs": [
    {
     "name": "stdout",
     "output_type": "stream",
     "text": [
      "\n",
      "Here's a brief summary of Peta Gay:\n",
      "Name: Peta Gay Antoinette\n",
      "Height: 5 10\n",
      "Sex: Female\n",
      "Race: Jamaican\n",
      "\n",
      "Privileges:\n",
      "This user has no privileges\n",
      "\n",
      "Privileges:\n",
      "\n",
      "Adding privileges...\n",
      "- Start\n",
      "- Stop\n",
      "- Stop Stopping\n",
      "\n",
      "User now has privileges.\n"
     ]
    }
   ],
   "source": [
    "from user import User, Admin, Privileges\n",
    "\n",
    "peta = Admin('Peta Gay', 'Antoinette', '5 10', 'Female', 'Jamaican')\n",
    "\n",
    "peta.describe_user()\n",
    "peta.privileges.show_privileges()\n",
    "\n",
    "peta.privileges.privileges = ['Start', 'Stop', 'Stop Stopping']\n",
    "peta.privileges.show_privileges()"
   ]
  },
  {
   "cell_type": "code",
   "execution_count": 1,
   "metadata": {},
   "outputs": [
    {
     "name": "stdout",
     "output_type": "stream",
     "text": [
      "\n",
      "Here's a brief summary of Peta Gay:\n",
      "Name: Peta Gay Antoinette\n",
      "Height: 5 10\n",
      "Sex: Female\n",
      "Race: Jamaican\n",
      "\n",
      "Privileges:\n",
      "\n",
      "Adding privileges...\n",
      "- Start\n",
      "- Stop\n",
      "- Stop Stopping\n",
      "\n",
      "User now has privileges.\n"
     ]
    }
   ],
   "source": [
    "from user import User\n",
    "from privs import Admin, Privileges\n",
    "\n",
    "peta = Admin('Peta Gay', 'Antoinette', '5 10', 'Female', 'Jamaican')\n",
    "\n",
    "peta.privileges.privileges = ['Start', 'Stop', 'Stop Stopping']\n",
    "\n",
    "peta.describe_user()\n",
    "peta.privileges.show_privileges()"
   ]
  },
  {
   "cell_type": "code",
   "execution_count": null,
   "metadata": {},
   "outputs": [],
   "source": []
  }
 ],
 "metadata": {
  "kernelspec": {
   "display_name": "Python 3",
   "language": "python",
   "name": "python3"
  },
  "language_info": {
   "codemirror_mode": {
    "name": "ipython",
    "version": 3
   },
   "file_extension": ".py",
   "mimetype": "text/x-python",
   "name": "python",
   "nbconvert_exporter": "python",
   "pygments_lexer": "ipython3",
   "version": "3.6.6"
  }
 },
 "nbformat": 4,
 "nbformat_minor": 2
}
