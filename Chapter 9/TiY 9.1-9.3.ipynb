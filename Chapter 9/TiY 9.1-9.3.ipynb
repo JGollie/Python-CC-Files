{
 "cells": [
  {
   "cell_type": "code",
   "execution_count": 18,
   "metadata": {},
   "outputs": [],
   "source": [
    "class Restaurant():\n",
    "    \"\"\"Building my restaurant.\"\"\"\n",
    "    \n",
    "    def __init__(self,name,cuisine):\n",
    "        \"\"\"Initianlize restaurant name and type of food.\"\"\"\n",
    "        \n",
    "        self.name = name\n",
    "        self.cuisine = cuisine\n",
    "        \n",
    "    def describe_restaurant(self):\n",
    "        \"\"\"Print message describing the restaurant.\"\"\"\n",
    "        \n",
    "        print(self.name.title() + \" is an amazing restaurant that serves \"\n",
    "             + self.cuisine + \" food.\")\n",
    "        \n",
    "    def open_restaurant(self):\n",
    "        \"\"\"Print message opening restarant\"\"\"\n",
    "        \n",
    "        print(self.name.title() + \" is open for business.\") \n",
    "        \n",
    "restaurant = Restaurant('Pappas','Seafood')\n",
    "\n"
   ]
  },
  {
   "cell_type": "code",
   "execution_count": 22,
   "metadata": {},
   "outputs": [
    {
     "name": "stdout",
     "output_type": "stream",
     "text": [
      "Pappas\n",
      "Seafood\n",
      "\n",
      "\n",
      "Pappas is an amazing restaurant that serves Seafood food.\n",
      "Pappas is open for business.\n"
     ]
    }
   ],
   "source": [
    "print(restaurant.name)\n",
    "print(restaurant.cuisine)\n",
    "print('\\n')\n",
    "restaurant.describe_restaurant()\n",
    "restaurant.open_restaurant()"
   ]
  },
  {
   "cell_type": "code",
   "execution_count": 24,
   "metadata": {},
   "outputs": [
    {
     "name": "stdout",
     "output_type": "stream",
     "text": [
      "V Live is an amazing restaurant that serves Cajun food.\n",
      "Ben And Jerrys is an amazing restaurant that serves ice cream food.\n",
      "Cool Runnings is an amazing restaurant that serves Jamaican food.\n"
     ]
    }
   ],
   "source": [
    "club = Restaurant('V Live','Cajun')\n",
    "parlor = Restaurant('Ben and Jerrys','ice cream')\n",
    "yamon = Restaurant('Cool Runnings','Jamaican')\n",
    "\n",
    "\n",
    "\n",
    "club.describe_restaurant()\n",
    "parlor.describe_restaurant()\n",
    "yamon.describe_restaurant()"
   ]
  },
  {
   "cell_type": "code",
   "execution_count": 1,
   "metadata": {},
   "outputs": [
    {
     "name": "stdout",
     "output_type": "stream",
     "text": [
      "\n",
      "Here's a brief summary of Bobby:\n",
      "Name: Bobby Knight\n",
      "Height: 6foot\n",
      "Sex: male\n",
      "Race: white\n",
      "\n",
      "Bobby Knight welcome to the village.\n",
      "\n",
      "Here's a brief summary of Time:\n",
      "Name: Time Farris\n",
      "Height: 7foot\n",
      "Sex: male\n",
      "Race: black\n",
      "\n",
      "Time Farris welcome to the village.\n"
     ]
    }
   ],
   "source": [
    "class User():\n",
    "    \"\"\"Create user attributes\"\"\"\n",
    "    def __init__(self,first_name,last_name,height,sex,race):\n",
    "        \n",
    "        \"\"\"Initialize user attributes\"\"\"\n",
    "        self.first_name = first_name\n",
    "        self.last_name = last_name        \n",
    "        self.height = height\n",
    "        self.sex = sex\n",
    "        self.race = race\n",
    "        \n",
    "    def describe_user(self):\n",
    "        \"\"\"Print summary of user\"\"\"\n",
    "        print(\"\\nHere's a brief summary of \" + self.first_name.title() + \":\")\n",
    "        print(\"Name: \" + self.first_name + \" \" + self.last_name)\n",
    "        print(\"Height: \" + self.height)\n",
    "        print(\"Sex: \" + self.sex)\n",
    "        print(\"Race: \" + self.race)\n",
    "        \n",
    "    def greet_user(self):\n",
    "        \"\"\"Print a greeting to user.\"\"\"\n",
    "        print('\\n' + self.first_name.title() + ' ' +  self.last_name.title() + \n",
    "              ' welcome to the village.')\n",
    "        \n",
    "bob = User('Bobby','Knight','6foot','male','white')\n",
    "\n",
    "bob.describe_user()\n",
    "bob.greet_user()\n",
    "\n",
    "tim = User('Time','Farris','7foot','male','black')\n",
    "\n",
    "tim.describe_user()\n",
    "tim.greet_user()"
   ]
  },
  {
   "cell_type": "code",
   "execution_count": null,
   "metadata": {},
   "outputs": [],
   "source": []
  }
 ],
 "metadata": {
  "kernelspec": {
   "display_name": "Python 3",
   "language": "python",
   "name": "python3"
  },
  "language_info": {
   "codemirror_mode": {
    "name": "ipython",
    "version": 3
   },
   "file_extension": ".py",
   "mimetype": "text/x-python",
   "name": "python",
   "nbconvert_exporter": "python",
   "pygments_lexer": "ipython3",
   "version": "3.6.6"
  }
 },
 "nbformat": 4,
 "nbformat_minor": 2
}
