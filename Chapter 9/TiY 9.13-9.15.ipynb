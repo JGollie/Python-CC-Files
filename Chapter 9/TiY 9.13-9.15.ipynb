{
 "cells": [
  {
   "cell_type": "code",
   "execution_count": 3,
   "metadata": {
    "collapsed": true
   },
   "outputs": [
    {
     "name": "stdout",
     "output_type": "stream",
     "text": [
      "\n",
      "Term: String\n",
      "Definition: Strings are amongst the most popular types in Python. We can create them simply by enclosing characters in quotes.\n",
      "\n",
      "Term: Loop\n",
      "Definition: In general statements are executed sequentially. The first statement in a function is executed first followed by the second one.\n",
      "\n",
      "Term: Tuples\n",
      "Definition: A tuple is a sequence of immutable Python objects. Tuples are sequences just like lists.\n",
      "\n",
      "Term: Lists\n",
      "Definition: The most basic data structure in Python is the sequence.\n",
      "\n",
      "Term: Function\n",
      "Definition: A function is a block of organized reusable code that is used to perform a single related action.\n",
      "\n",
      "Term: Keyboard\n",
      "Definition: Plum 75 is the truth.\n",
      "\n",
      "Term: Mouse\n",
      "Definition: Logitech mice are the best on the market\n",
      "\n",
      "Term: Amd\n",
      "Definition: I cannot believe AMD is making a comeback!\n",
      "\n",
      "Term: The Kids\n",
      "Definition: What A Joy!\n",
      "\n",
      "Term: Wacom\n",
      "Definition: Best pencil pads on the market.\n"
     ]
    }
   ],
   "source": [
    "# Exercise 9-13\n",
    "\n",
    "glossary = {\n",
    "    'string': 'Strings are amongst the most popular types in Python. We can create them simply by enclosing characters in quotes.',\n",
    "    'loop': 'In general statements are executed sequentially. The first statement in a function is executed first followed by the second one.',\n",
    "    'tuples': 'A tuple is a sequence of immutable Python objects. Tuples are sequences just like lists.',\n",
    "    'lists': 'The most basic data structure in Python is the sequence.',\n",
    "    'function': 'A function is a block of organized reusable code that is used to perform a single related action.',\n",
    "    'keyboard': 'Plum 75 is the truth.',\n",
    "    'mouse': 'Logitech mice are the best on the market',\n",
    "    'AMD': 'I cannot believe AMD is making a comeback!',\n",
    "    'The kids': 'What A Joy!',\n",
    "    'Wacom': 'Best pencil pads on the market.'\n",
    "           }\n",
    "\n",
    "for term, meaning in glossary.items():\n",
    "    print(\"\\nTerm: \" + term.title())\n",
    "    print(\"Definition: \" + meaning)"
   ]
  },
  {
   "cell_type": "code",
   "execution_count": 5,
   "metadata": {
    "scrolled": true
   },
   "outputs": [
    {
     "name": "stdout",
     "output_type": "stream",
     "text": [
      "\n",
      "Term: String\n",
      "Definition: Strings are amongst the most popular types in Python.\n",
      "\n",
      "Term: Loop\n",
      "Definition: In general statements are executed sequentially.\n",
      "\n",
      "Term: Tuples\n",
      "Definition: A tuple is a sequence of immutable Python objects.\n",
      "\n",
      "Term: Lists\n",
      "Definition: The most basic data structure in Python is the sequence.\n",
      "\n",
      "Term: Function\n",
      "Definition: A function is a block of organized reusable code.\n",
      "\n",
      "Term: Keyboard\n",
      "Definition: Plum 75 is the truth.\n",
      "\n",
      "Term: Mouse\n",
      "Definition: Logitech mice are the best.\n",
      "\n",
      "Term: Amd\n",
      "Definition: AMD is making a comeback.\n",
      "\n",
      "Term: The Kids\n",
      "Definition: What a Joy!\n",
      "\n",
      "Term: Wacom\n",
      "Definition: Best pencil pads hands down!\n"
     ]
    }
   ],
   "source": [
    "from collections import OrderedDict\n",
    "\n",
    "glossary = OrderedDict()\n",
    "\n",
    "glossary['string'] = 'Strings are amongst the most popular types in Python.'\n",
    "glossary['loop'] = 'In general statements are executed sequentially.'\n",
    "glossary['tuples'] = 'A tuple is a sequence of immutable Python objects.'\n",
    "glossary['lists'] = 'The most basic data structure in Python is the sequence.'\n",
    "glossary['function'] = 'A function is a block of organized reusable code.'\n",
    "glossary['keyboard'] = 'Plum 75 is the truth.'\n",
    "glossary['mouse'] = 'Logitech mice are the best.'\n",
    "glossary['AMD'] = 'AMD is making a comeback.'\n",
    "glossary['The Kids'] = 'What a Joy!'\n",
    "glossary['Wacom'] = 'Best pencil pads hands down!'\n",
    "\n",
    "for term, definition in glossary.items():\n",
    "    print(\"\\nTerm: \" + term.title())\n",
    "    print(\"Definition: \" + definition)"
   ]
  },
  {
   "cell_type": "code",
   "execution_count": 22,
   "metadata": {},
   "outputs": [
    {
     "name": "stdout",
     "output_type": "stream",
     "text": [
      "Results from rolling a 6 sided die 10 times.\n",
      "['1', '5', '6', '6', '1', '1', '6', '2', '4', '4']\n",
      "\n",
      "Results from rolling a 10 sided die 10 times\n",
      "['6', '4', '9', '2', '4', '3', '7', '7', '2', '3']\n",
      "\n",
      "Results from rolling a 20 sided die 10 times\n",
      "['9', '15', '18', '20', '20', '2', '7', '4', '12', '15']\n"
     ]
    }
   ],
   "source": [
    "# Exercise 9-14\n",
    "\n",
    "from random import randint\n",
    "\n",
    "\n",
    "class Die():\n",
    "    \"\"\"Making a die with set number of sides.\"\"\"\n",
    "    def __init__(self,sides=6):\n",
    "        self.sides = sides\n",
    "        \n",
    "    \n",
    "    \n",
    "    def roll_die(self):\n",
    "        \"\"\"Roll the die\"\"\"\n",
    "        roll = randint(1,self.sides)\n",
    "        return str(roll)        \n",
    " \n",
    "\n",
    "rolling = Die()\n",
    "results = []\n",
    "\n",
    "# Rolling a 6 sided die 10 times.\n",
    "\n",
    "for rolls in range(10):\n",
    "    result = rolling.roll_die()\n",
    "    results.append(result)\n",
    "    \n",
    "print('Results from rolling a 6 sided die 10 times.')\n",
    "print(results)\n",
    "\n",
    "d10 = Die(sides=10)\n",
    "results = []\n",
    "\n",
    "# Rolling a 10 sided die 10 times.\n",
    "\n",
    "for rolls in range(10):\n",
    "    result = d10.roll_die()\n",
    "    results.append(result)\n",
    "    \n",
    "print('\\nResults from rolling a 10 sided die 10 times')\n",
    "print(results)\n",
    "\n",
    "d20 = Die(sides=20)\n",
    "results = []\n",
    "\n",
    "for rolls in range(10):\n",
    "    result = d20.roll_die()\n",
    "    results.append(result)\n",
    "    \n",
    "print('\\nResults from rolling a 20 sided die 10 times')\n",
    "print(results)"
   ]
  },
  {
   "cell_type": "code",
   "execution_count": null,
   "metadata": {},
   "outputs": [],
   "source": []
  },
  {
   "cell_type": "code",
   "execution_count": null,
   "metadata": {},
   "outputs": [],
   "source": []
  }
 ],
 "metadata": {
  "kernelspec": {
   "display_name": "Python 3",
   "language": "python",
   "name": "python3"
  },
  "language_info": {
   "codemirror_mode": {
    "name": "ipython",
    "version": 3
   },
   "file_extension": ".py",
   "mimetype": "text/x-python",
   "name": "python",
   "nbconvert_exporter": "python",
   "pygments_lexer": "ipython3",
   "version": "3.6.6"
  }
 },
 "nbformat": 4,
 "nbformat_minor": 2
}
