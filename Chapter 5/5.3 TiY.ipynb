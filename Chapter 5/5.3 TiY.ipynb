{
 "cells": [
  {
   "cell_type": "code",
   "execution_count": 8,
   "metadata": {},
   "outputs": [
    {
     "name": "stdout",
     "output_type": "stream",
     "text": [
      "You just earned 5 points\n"
     ]
    }
   ],
   "source": [
    "alien_color = \"green\"\n",
    "\n",
    "if alien_color == \"green\":\n",
    "    print(\"You just earned 5 points\")\n",
    "    \n",
    "else:\n",
    "    print(\"\")\n",
    "    "
   ]
  },
  {
   "cell_type": "code",
   "execution_count": 9,
   "metadata": {},
   "outputs": [
    {
     "name": "stdout",
     "output_type": "stream",
     "text": [
      "You just earned 5 points\n"
     ]
    }
   ],
   "source": [
    "alien_color = \"green\"\n",
    "\n",
    "if alien_color == \"green\":\n",
    "    print(\"You just earned 5 points\")\n",
    "    \n",
    "else:\n",
    "    print(\"You just earned 10 points\")\n",
    "    "
   ]
  },
  {
   "cell_type": "code",
   "execution_count": 10,
   "metadata": {},
   "outputs": [
    {
     "name": "stdout",
     "output_type": "stream",
     "text": [
      "You just earned 10 points\n"
     ]
    }
   ],
   "source": [
    "alien_color = \"yellow\"\n",
    "\n",
    "if alien_color == \"green\":\n",
    "    print(\"You just earned 5 points\")\n",
    "    \n",
    "else:\n",
    "    print(\"You just earned 10 points\")"
   ]
  },
  {
   "cell_type": "code",
   "execution_count": 13,
   "metadata": {},
   "outputs": [
    {
     "name": "stdout",
     "output_type": "stream",
     "text": [
      "You just earned 15 points\n"
     ]
    }
   ],
   "source": [
    "alien_color = \"red\"\n",
    "\n",
    "if alien_color == \"green\":\n",
    "    print(\"You just earned 5 points\")\n",
    "    \n",
    "elif alien_color == \"yellow\":\n",
    "    print(\"You just earned 10 points\")\n",
    "    \n",
    "elif alien_color == \"red\":\n",
    "    print(\"You just earned 15 points\")"
   ]
  },
  {
   "cell_type": "code",
   "execution_count": 28,
   "metadata": {},
   "outputs": [
    {
     "name": "stdout",
     "output_type": "stream",
     "text": [
      "elder\n"
     ]
    }
   ],
   "source": [
    "age = 95\n",
    "\n",
    "if age < 2:\n",
    "    print(\"Baby\")\n",
    "    \n",
    "elif age < 4:\n",
    "    print(\"Toddler\")\n",
    "    \n",
    "elif age < 13:\n",
    "    print(\"Kid\")\n",
    "    \n",
    "elif age < 20:\n",
    "    print(\"teenager\")\n",
    "    \n",
    "elif age < 65:\n",
    "    print(\"adult\")\n",
    "\n",
    "elif age >= 65:\n",
    "    print(\"elder\")\n",
    "    "
   ]
  },
  {
   "cell_type": "code",
   "execution_count": 33,
   "metadata": {},
   "outputs": [
    {
     "name": "stdout",
     "output_type": "stream",
     "text": [
      "You really love bananas!\n",
      "You really love apples!\n",
      "You really love juicy plums!\n"
     ]
    }
   ],
   "source": [
    "favorite_fruits = ['banana', 'apple', 'peach', 'plum', 'orange', 'mango']\n",
    "\n",
    "if \"banana\" in favorite_fruits:\n",
    "    print(\"You really love bananas!\")\n",
    "\n",
    "if \"apple\" in favorite_fruits:\n",
    "    print(\"You really love apples!\")\n",
    "    \n",
    "if \"plum\" in favorite_fruits:\n",
    "    print(\"You really love juicy plums!\")\n",
    "    \n",
    "if \"watermelon\" in favorite_fruits:\n",
    "    print(\"You really love watermelon!\")\n",
    "    \n",
    "if \"ginep\" in favorite_fruits:\n",
    "    print(\"You love ginep!\")"
   ]
  },
  {
   "cell_type": "code",
   "execution_count": null,
   "metadata": {
    "collapsed": true
   },
   "outputs": [],
   "source": []
  }
 ],
 "metadata": {
  "kernelspec": {
   "display_name": "Python 3",
   "language": "python",
   "name": "python3"
  },
  "language_info": {
   "codemirror_mode": {
    "name": "ipython",
    "version": 3
   },
   "file_extension": ".py",
   "mimetype": "text/x-python",
   "name": "python",
   "nbconvert_exporter": "python",
   "pygments_lexer": "ipython3",
   "version": "3.6.1"
  }
 },
 "nbformat": 4,
 "nbformat_minor": 2
}
