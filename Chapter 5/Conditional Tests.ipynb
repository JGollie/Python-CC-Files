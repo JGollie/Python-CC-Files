{
 "cells": [
  {
   "cell_type": "code",
   "execution_count": 5,
   "metadata": {},
   "outputs": [
    {
     "name": "stdout",
     "output_type": "stream",
     "text": [
      "Is tablet 'iPad'? I predict True.\n",
      "False\n",
      "\n",
      "Is tablet == 'Samsung'? I predict False\n",
      "False\n"
     ]
    }
   ],
   "source": [
    "tablet = 'iPad'\n",
    "print(\"Is tablet 'iPad'? I predict True.\")\n",
    "print(tablet == 'iPad')\n",
    "\n",
    "print(\"\\nIs tablet == 'Samsung'? I predict False\")\n",
    "print(tablet == 'Samsung')"
   ]
  },
  {
   "cell_type": "code",
   "execution_count": 8,
   "metadata": {},
   "outputs": [
    {
     "name": "stdout",
     "output_type": "stream",
     "text": [
      "Is my favorite club my Cobra Driver? I predict True\n",
      "True\n",
      "\n",
      "Do I love my Gap Wedge? I predict False\n",
      "False\n"
     ]
    }
   ],
   "source": [
    "favclub = 'Cobra Driver'\n",
    "print(\"Is my favorite club my Cobra Driver? I predict True\")\n",
    "print(favclub == 'Cobra Driver')\n",
    "\n",
    "print(\"\\nDo I love my Gap Wedge? I predict False\")\n",
    "print(favclub == \"Gap Wedge\")"
   ]
  },
  {
   "cell_type": "code",
   "execution_count": 31,
   "metadata": {},
   "outputs": [
    {
     "name": "stdout",
     "output_type": "stream",
     "text": [
      "Water is essential to life. I predict True\n",
      "True\n",
      "\n",
      "Mercury is essential to life. I predict False\n",
      "False\n"
     ]
    },
    {
     "data": {
      "text/plain": [
       "'water'"
      ]
     },
     "execution_count": 31,
     "metadata": {},
     "output_type": "execute_result"
    }
   ],
   "source": [
    "fluid = 'water'\n",
    "\n",
    "print(\"Water is essential to life. I predict True\")\n",
    "print(fluid == 'water')\n",
    "\n",
    "\n",
    "print(\"\\nMercury is essential to life. I predict False\")\n",
    "print(fluid == 'mercury')\n",
    "\n",
    "fluid"
   ]
  },
  {
   "cell_type": "code",
   "execution_count": 27,
   "metadata": {},
   "outputs": [
    {
     "data": {
      "text/plain": [
       "True"
      ]
     },
     "execution_count": 27,
     "metadata": {},
     "output_type": "execute_result"
    }
   ],
   "source": [
    "fluid = ['water', 'juiced', 'rivers'] \n",
    "'rivers' in fluid"
   ]
  },
  {
   "cell_type": "code",
   "execution_count": 41,
   "metadata": {},
   "outputs": [
    {
     "name": "stdout",
     "output_type": "stream",
     "text": [
      "True\n",
      "True\n",
      "\n",
      "Is your favorite putter a Ping? I predict No\n",
      "False\n"
     ]
    }
   ],
   "source": [
    "favputter = 'scotty cameron'\n",
    "print(favputter.title() == 'Scotty Cameron')\n",
    "\n",
    "print(favputter == 'scotty cameron')\n",
    "print('\\nIs your favorite putter a Ping? I predict No')\n",
    "print(favputter == 'Ping')"
   ]
  },
  {
   "cell_type": "code",
   "execution_count": 47,
   "metadata": {},
   "outputs": [
    {
     "name": "stdout",
     "output_type": "stream",
     "text": [
      "Drive not long enough, please try again.\n",
      "\n",
      "Great job! You are free to continue on.\n"
     ]
    }
   ],
   "source": [
    "required_distance = '300 yards'\n",
    "\n",
    "if required_distance != '280 yards':\n",
    "    print('Drive not long enough, please try again.')\n",
    "    \n",
    "if required_distance == '300 yards':\n",
    "    print('\\nGreat job! You are free to continue on.')"
   ]
  },
  {
   "cell_type": "code",
   "execution_count": 51,
   "metadata": {},
   "outputs": [
    {
     "data": {
      "text/plain": [
       "True"
      ]
     },
     "execution_count": 51,
     "metadata": {},
     "output_type": "execute_result"
    }
   ],
   "source": [
    "Fragile = 'Snowflakes'\n",
    "Fragile.lower() == 'snowflakes'"
   ]
  },
  {
   "cell_type": "code",
   "execution_count": 50,
   "metadata": {},
   "outputs": [
    {
     "data": {
      "text/plain": [
       "False"
      ]
     },
     "execution_count": 50,
     "metadata": {},
     "output_type": "execute_result"
    }
   ],
   "source": [
    "Fragile.lower() == 'Snowflakes'"
   ]
  },
  {
   "cell_type": "code",
   "execution_count": 76,
   "metadata": {},
   "outputs": [
    {
     "name": "stdout",
     "output_type": "stream",
     "text": [
      "Required Distance is 300 yards\n",
      "245 is not long enough, please try again.\n"
     ]
    }
   ],
   "source": [
    "driving_distance = ['245', '312', '276', '301']\n",
    "distance = '245'\n",
    "\n",
    "print(\"Required Distance is 300 yards\")\n",
    "\n",
    "if distance in driving_distance:\n",
    "    print('245 is not long enough, please try again.')\n",
    "    \n",
    "if distance not in driving_distance:\n",
    "    print('Your drive is not in the system, please try again')\n",
    "    \n"
   ]
  },
  {
   "cell_type": "code",
   "execution_count": 128,
   "metadata": {},
   "outputs": [
    {
     "name": "stdout",
     "output_type": "stream",
     "text": [
      "Required Distance is 300 yards\n",
      "245 is not long enough, please try again.\n"
     ]
    }
   ],
   "source": [
    "distances = ['245', '312', '276', '301']\n",
    "distance = '301'\n",
    "\n",
    "print(\"Required Distance is 300 yards\")\n",
    "\n",
    "if distance in distances:\n",
    "    print('245 is not long enough, please try again.')\n",
    "    \n",
    "if distance not in distances:\n",
    "    print('Your drive is not in the system, please try again')"
   ]
  },
  {
   "cell_type": "code",
   "execution_count": 132,
   "metadata": {},
   "outputs": [
    {
     "name": "stdout",
     "output_type": "stream",
     "text": [
      "Please try again\n",
      "Please try again\n",
      "Please try again\n",
      "\n",
      "Great job! You are free to continue on.\n"
     ]
    }
   ],
   "source": [
    "for distance in distances:\n",
    "    if distance == '301':\n",
    "        \n",
    "        print('\\nGreat job! You are free to continue on.')\n",
    "    else:\n",
    "        print('Please try again')"
   ]
  },
  {
   "cell_type": "code",
   "execution_count": 92,
   "metadata": {},
   "outputs": [
    {
     "name": "stdout",
     "output_type": "stream",
     "text": [
      "That is not the correct answer\n"
     ]
    }
   ],
   "source": [
    "answer = 48\n",
    "\n",
    "if answer != 42:\n",
    "    print('That is not the correct answer')"
   ]
  },
  {
   "cell_type": "code",
   "execution_count": 93,
   "metadata": {},
   "outputs": [
    {
     "data": {
      "text/plain": [
       "True"
      ]
     },
     "execution_count": 93,
     "metadata": {},
     "output_type": "execute_result"
    }
   ],
   "source": [
    "answer > 46"
   ]
  },
  {
   "cell_type": "code",
   "execution_count": 95,
   "metadata": {},
   "outputs": [
    {
     "data": {
      "text/plain": [
       "False"
      ]
     },
     "execution_count": 95,
     "metadata": {},
     "output_type": "execute_result"
    }
   ],
   "source": [
    "answer < 35"
   ]
  },
  {
   "cell_type": "code",
   "execution_count": 98,
   "metadata": {},
   "outputs": [
    {
     "data": {
      "text/plain": [
       "True"
      ]
     },
     "execution_count": 98,
     "metadata": {},
     "output_type": "execute_result"
    }
   ],
   "source": [
    "answer < 58"
   ]
  },
  {
   "cell_type": "code",
   "execution_count": 99,
   "metadata": {},
   "outputs": [
    {
     "data": {
      "text/plain": [
       "True"
      ]
     },
     "execution_count": 99,
     "metadata": {},
     "output_type": "execute_result"
    }
   ],
   "source": [
    "answer == 48"
   ]
  },
  {
   "cell_type": "code",
   "execution_count": 105,
   "metadata": {},
   "outputs": [
    {
     "data": {
      "text/plain": [
       "True"
      ]
     },
     "execution_count": 105,
     "metadata": {},
     "output_type": "execute_result"
    }
   ],
   "source": [
    "answer > 36 and answer <100"
   ]
  },
  {
   "cell_type": "code",
   "execution_count": 106,
   "metadata": {},
   "outputs": [
    {
     "data": {
      "text/plain": [
       "False"
      ]
     },
     "execution_count": 106,
     "metadata": {},
     "output_type": "execute_result"
    }
   ],
   "source": [
    "answer > 52 or answer < 10"
   ]
  },
  {
   "cell_type": "code",
   "execution_count": 103,
   "metadata": {},
   "outputs": [
    {
     "data": {
      "text/plain": [
       "48"
      ]
     },
     "execution_count": 103,
     "metadata": {},
     "output_type": "execute_result"
    }
   ],
   "source": [
    "answer"
   ]
  },
  {
   "cell_type": "code",
   "execution_count": 108,
   "metadata": {},
   "outputs": [
    {
     "data": {
      "text/plain": [
       "False"
      ]
     },
     "execution_count": 108,
     "metadata": {},
     "output_type": "execute_result"
    }
   ],
   "source": [
    "distances = ['245', '312', '276', '301']\n",
    "'395' in distances"
   ]
  },
  {
   "cell_type": "code",
   "execution_count": 109,
   "metadata": {},
   "outputs": [
    {
     "data": {
      "text/plain": [
       "True"
      ]
     },
     "execution_count": 109,
     "metadata": {},
     "output_type": "execute_result"
    }
   ],
   "source": [
    "'245' in distances"
   ]
  },
  {
   "cell_type": "code",
   "execution_count": 120,
   "metadata": {},
   "outputs": [
    {
     "name": "stdout",
     "output_type": "stream",
     "text": [
      "Your distance of 312 yards was registered, Good Job!\n"
     ]
    }
   ],
   "source": [
    "distance = '312'\n",
    "if distance in distances:\n",
    "    print('Your distance of ' + distance + ' yards was registered, Good Job!')\n",
    "else:\n",
    "    print('Your distance of ' + distance + ' yards did not register. Please try again' )"
   ]
  },
  {
   "cell_type": "code",
   "execution_count": 122,
   "metadata": {},
   "outputs": [
    {
     "name": "stdout",
     "output_type": "stream",
     "text": [
      "Your distance of 287 yards did not register. Please try again\n"
     ]
    }
   ],
   "source": [
    "distance = '287'\n",
    "if distance in distances:\n",
    "    print('Your distance of ' + distance + ' yards was registered, Good Job!')\n",
    "else:\n",
    "    print('Your distance of ' + distance + ' yards did not register. Please try again' )"
   ]
  },
  {
   "cell_type": "code",
   "execution_count": null,
   "metadata": {
    "collapsed": true
   },
   "outputs": [],
   "source": []
  }
 ],
 "metadata": {
  "kernelspec": {
   "display_name": "Python 3",
   "language": "python",
   "name": "python3"
  },
  "language_info": {
   "codemirror_mode": {
    "name": "ipython",
    "version": 3
   },
   "file_extension": ".py",
   "mimetype": "text/x-python",
   "name": "python",
   "nbconvert_exporter": "python",
   "pygments_lexer": "ipython3",
   "version": "3.6.1"
  }
 },
 "nbformat": 4,
 "nbformat_minor": 2
}
