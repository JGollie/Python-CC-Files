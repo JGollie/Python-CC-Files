{
 "cells": [
  {
   "cell_type": "code",
   "execution_count": 17,
   "metadata": {},
   "outputs": [
    {
     "name": "stdout",
     "output_type": "stream",
     "text": [
      "Hello Admin, would you like a status report?\n",
      "Jonathan, thank you for logging in again.\n",
      "Ava, thank you for logging in again.\n",
      "Peta, thank you for logging in again.\n",
      "Joah, thank you for logging in again.\n"
     ]
    }
   ],
   "source": [
    "usernames = ['admin', 'jonathan', 'ava', 'peta', 'joah']\n",
    "\n",
    "for username in usernames:\n",
    "    if username == 'admin':\n",
    "        print(\"Hello Admin, would you like a status report?\")\n",
    "    else:\n",
    "        print(username.title() + \", thank you for logging in again.\")"
   ]
  },
  {
   "cell_type": "code",
   "execution_count": 18,
   "metadata": {},
   "outputs": [
    {
     "name": "stdout",
     "output_type": "stream",
     "text": [
      "We need to find more users!\n"
     ]
    }
   ],
   "source": [
    "usernames = []\n",
    "\n",
    "if usernames:\n",
    "    for username in usernames:\n",
    "        if username == 'admin':\n",
    "            print(\"Hello Admin, would you like a status report?\")\n",
    "        else:\n",
    "            print(username.title() + \", thank you for logging in again.\")\n",
    "else:\n",
    "    print(\"We need to find more users!\")"
   ]
  },
  {
   "cell_type": "code",
   "execution_count": 20,
   "metadata": {},
   "outputs": [
    {
     "name": "stdout",
     "output_type": "stream",
     "text": [
      "Jonny, thank you for logging in again.\n"
     ]
    }
   ],
   "source": [
    "usernames = ['jonny']\n",
    "\n",
    "if usernames:\n",
    "    for username in usernames:\n",
    "        if username == 'admin':\n",
    "            print(\"Hello Admin, would you like a status report?\")\n",
    "        else:\n",
    "            print(username.title() + \", thank you for logging in again.\")\n",
    "else:\n",
    "    print(\"We need to find more users!\")"
   ]
  },
  {
   "cell_type": "code",
   "execution_count": 30,
   "metadata": {},
   "outputs": [
    {
     "name": "stdout",
     "output_type": "stream",
     "text": [
      "Ava has already been used.\n",
      "peta has already been used.\n",
      "PETA has already been used.\n"
     ]
    }
   ],
   "source": [
    "current_users = ['jim', 'john', 'ava', 'abigail', 'peta']\n",
    "\n",
    "new_users = ['chris', 'paul', 'Ava', 'sam', 'peta', 'PETA']\n",
    "\n",
    "for new_user in new_users:\n",
    "    if new_user.lower() in current_users:\n",
    "        print(new_user + ' has already been used.')"
   ]
  },
  {
   "cell_type": "code",
   "execution_count": 32,
   "metadata": {},
   "outputs": [
    {
     "name": "stdout",
     "output_type": "stream",
     "text": [
      "1st\n",
      "2nd\n",
      "3rd\n",
      "4th\n",
      "5th\n",
      "6th\n",
      "7th\n",
      "8th\n",
      "9th\n"
     ]
    }
   ],
   "source": [
    "numbs = ['1', '2', '3', '4', '5', '6', '7', '8', '9']\n",
    "\n",
    "for numb in numbs:\n",
    "    if numb == '1':\n",
    "        print('1st')\n",
    "    elif numb == '2':\n",
    "        print('2nd')\n",
    "    elif numb == '3':\n",
    "        print('3rd')\n",
    "    else:\n",
    "        print(numb + 'th')\n"
   ]
  },
  {
   "cell_type": "code",
   "execution_count": null,
   "metadata": {
    "collapsed": true
   },
   "outputs": [],
   "source": []
  }
 ],
 "metadata": {
  "kernelspec": {
   "display_name": "Python 3",
   "language": "python",
   "name": "python3"
  },
  "language_info": {
   "codemirror_mode": {
    "name": "ipython",
    "version": 3
   },
   "file_extension": ".py",
   "mimetype": "text/x-python",
   "name": "python",
   "nbconvert_exporter": "python",
   "pygments_lexer": "ipython3",
   "version": "3.6.1"
  }
 },
 "nbformat": 4,
 "nbformat_minor": 2
}
