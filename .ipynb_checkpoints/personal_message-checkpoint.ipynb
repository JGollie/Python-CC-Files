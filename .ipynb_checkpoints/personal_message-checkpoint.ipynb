{
 "cells": [
  {
   "cell_type": "markdown",
   "metadata": {},
   "source": []
  },
  {
   "cell_type": "code",
   "execution_count": 1,
   "metadata": {},
   "outputs": [
    {
     "name": "stdout",
     "output_type": "stream",
     "text": [
      "John Brown\n"
     ]
    }
   ],
   "source": [
    "name = \"John Brown\"\n",
    "print(name)"
   ]
  },
  {
   "cell_type": "code",
   "execution_count": 15,
   "metadata": {},
   "outputs": [
    {
     "name": "stdout",
     "output_type": "stream",
     "text": [
      "Hello John Brown, welcome to Baylor Universty\n"
     ]
    }
   ],
   "source": [
    "name = \"John Brown\"\n",
    "message = \"Hello\" + \" \" + name.title() + \", \" + \"welcome to Baylor Universty\"\n",
    "print(message)"
   ]
  },
  {
   "cell_type": "code",
   "execution_count": 20,
   "metadata": {},
   "outputs": [
    {
     "name": "stdout",
     "output_type": "stream",
     "text": [
      "john brown\n",
      "JOHN BROWN\n",
      "John Brown\n"
     ]
    }
   ],
   "source": [
    "first_name = \"Midas\"\n",
    "last_name = \"King\"\n",
    "print (name.lower())\n",
    "print (name.upper())\n",
    "print (name.title())"
   ]
  },
  {
   "cell_type": "code",
   "execution_count": 39,
   "metadata": {},
   "outputs": [
    {
     "name": "stdout",
     "output_type": "stream",
     "text": [
      "Marcus Garvey once said, We must be great!\n"
     ]
    }
   ],
   "source": [
    "famous_person = \"Marcus Garvey\"\n",
    "quote = famous_person + \" once said, We must be great!\"\n",
    "print(quote)"
   ]
  },
  {
   "cell_type": "code",
   "execution_count": 122,
   "metadata": {},
   "outputs": [
    {
     "name": "stdout",
     "output_type": "stream",
     "text": [
      "\n",
      "Famous Person's name:\n",
      "\tMarcus \n",
      "\tGarvey\n"
     ]
    }
   ],
   "source": [
    "first_name = \"Marcus \"\n",
    "last_name = \"Garvey \"\n",
    "print(\"\\nFamous Person's name:\")\n",
    "#include whitespaces in their own strings: tab \"\\t\" and new line \"\\n\" \n",
    "print(\"\\t\" + first_name.strip() + \" \" + \"\\n\" + \"\\t\" + last_name.strip()) "
   ]
  },
  {
   "cell_type": "code",
   "execution_count": null,
   "metadata": {
    "collapsed": true
   },
   "outputs": [],
   "source": []
  }
 ],
 "metadata": {
  "kernelspec": {
   "display_name": "Python 3",
   "language": "python",
   "name": "python3"
  },
  "language_info": {
   "codemirror_mode": {
    "name": "ipython",
    "version": 3
   },
   "file_extension": ".py",
   "mimetype": "text/x-python",
   "name": "python",
   "nbconvert_exporter": "python",
   "pygments_lexer": "ipython3",
   "version": "3.6.1"
  }
 },
 "nbformat": 4,
 "nbformat_minor": 2
}
