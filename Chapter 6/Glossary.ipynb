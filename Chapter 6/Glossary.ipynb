{
 "cells": [
  {
   "cell_type": "code",
   "execution_count": 33,
   "metadata": {
    "scrolled": true
   },
   "outputs": [
    {
     "name": "stdout",
     "output_type": "stream",
     "text": [
      "{'string': 'Strings are amongst the most popular types in Python. We can create them simply by enclosing characters in quotes.', 'loop': 'In general statements are executed sequentially. The first statement in a function is executed first followed by the second one.', 'tuples': 'A tuple is a sequence of immutable Python objects. Tuples are sequences just like lists.', 'lists': 'The most basic data structure in Python is the sequence.', 'function': 'A function is a block of organized reusable code that is used to perform a single related action.'}\n",
      "\n",
      "String: \n",
      "\tStrings are amongst the most popular types in Python. We can create them simply by enclosing characters in quotes.\n",
      "\n",
      "Loop: \n",
      "\tIn general statements are executed sequentially. The first statement in a function is executed first followed by the second one.\n",
      "\n",
      "Tuples: \n",
      "\tA tuple is a sequence of immutable Python objects. Tuples are sequences just like lists.\n",
      "\n",
      "Lists: \n",
      "\tThe most basic data structure in Python is the sequence.\n",
      "\n",
      "Function: \n",
      "\tA function is a block of organized reusable code that is used to perform a single related action.\n"
     ]
    }
   ],
   "source": [
    "glossary = {\n",
    "    'string': 'Strings are amongst the most popular types in Python. We can create them simply by enclosing characters in quotes.',\n",
    "    'loop': 'In general statements are executed sequentially. The first statement in a function is executed first followed by the second one.',\n",
    "    'tuples': 'A tuple is a sequence of immutable Python objects. Tuples are sequences just like lists.',\n",
    "    'lists': 'The most basic data structure in Python is the sequence.',\n",
    "    'function': 'A function is a block of organized reusable code that is used to perform a single related action.'\n",
    "           }\n",
    "\n",
    "print(glossary)\n",
    "\n",
    "print('\\nString: ' + \n",
    "      \"\\n\\t\" +\n",
    "     glossary['string'])\n",
    "print('\\nLoop: ' + \n",
    "      \"\\n\\t\" +\n",
    "     glossary['loop'])\n",
    "print('\\nTuples: ' + \n",
    "      \"\\n\\t\" +\n",
    "     glossary['tuples'])\n",
    "print('\\nLists: ' + \n",
    "      \"\\n\\t\" +\n",
    "     glossary['lists'])\n",
    "print('\\nFunction: ' + \n",
    "      \"\\n\\t\" +\n",
    "     glossary['function'])"
   ]
  },
  {
   "cell_type": "code",
   "execution_count": null,
   "metadata": {
    "collapsed": true
   },
   "outputs": [],
   "source": []
  }
 ],
 "metadata": {
  "kernelspec": {
   "display_name": "Python 3",
   "language": "python",
   "name": "python3"
  },
  "language_info": {
   "codemirror_mode": {
    "name": "ipython",
    "version": 3
   },
   "file_extension": ".py",
   "mimetype": "text/x-python",
   "name": "python",
   "nbconvert_exporter": "python",
   "pygments_lexer": "ipython3",
   "version": "3.6.1"
  }
 },
 "nbformat": 4,
 "nbformat_minor": 2
}
