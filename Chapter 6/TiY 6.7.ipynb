{
 "cells": [
  {
   "cell_type": "code",
   "execution_count": 8,
   "metadata": {},
   "outputs": [
    {
     "name": "stdout",
     "output_type": "stream",
     "text": [
      "{'height': '5 foot 9 inch', 'nationality': 'jamaican', 'gender': 'female', 'sign': 'scorpio'}\n",
      "{'height': '6 foot', 'nationality': 'American', 'gender': 'male', 'sign': 'sagittarius'}\n",
      "{'height': '5 foot 2 inch', 'nationality': 'American', 'gender': 'female', 'sign': 'libra'}\n"
     ]
    }
   ],
   "source": [
    "peta = {'height': '5 foot 9 inch', 'nationality': 'jamaican', 'gender': 'female', 'sign': 'scorpio'}\n",
    "jonathan = {'height': '6 foot', 'nationality': 'American', 'gender': 'male', 'sign': 'sagittarius'}\n",
    "ava = {'height': '5 foot 2 inch', 'nationality': 'American', 'gender': 'female', 'sign': 'libra'}\n",
    "\n",
    "people = [peta, jonathan, ava]\n",
    "\n",
    "for person in people:\n",
    "    print(person)"
   ]
  },
  {
   "cell_type": "code",
   "execution_count": 40,
   "metadata": {},
   "outputs": [
    {
     "name": "stdout",
     "output_type": "stream",
     "text": [
      "\n",
      "Here is what I know about the Wolfie:\n",
      "\tName: Wolfie\n",
      "\tType: Dog\n",
      "\tOwner: Asher\n",
      "\n",
      "Here is what I know about the Houdini:\n",
      "\tName: Houdini\n",
      "\tType: Hamster\n",
      "\tOwner: Ava\n",
      "\n",
      "Here is what I know about the Cecil:\n",
      "\tName: Cecil\n",
      "\tType: Cat\n",
      "\tOwner: Sam\n"
     ]
    }
   ],
   "source": [
    "#Make and empty list.\n",
    "\n",
    "pets = []\n",
    "\n",
    "#Add pets and owner information to dictionary.\n",
    "\n",
    "pet = {\n",
    "    'name': 'wolfie', \n",
    "    'type': 'dog',\n",
    "    'owner': 'asher'\n",
    "        }\n",
    "pets.append(pet)\n",
    "\n",
    "pet = {\n",
    "    'name': 'houdini', \n",
    "    'type': 'hamster',\n",
    "    'owner': 'ava'\n",
    "        }\n",
    "pets.append(pet)\n",
    "\n",
    "pet = {\n",
    "    'name': 'cecil', \n",
    "    'type': 'cat',\n",
    "    'owner': 'sam'\n",
    "        }\n",
    "pets.append(pet)\n",
    "\n",
    "#Print what I know about the pets.\n",
    "\n",
    "for pet in pets:\n",
    "    print(\"\\nHere is what I know about the \" + pet['name'].title() + \":\")\n",
    "    for key, value in pet.items():\n",
    "        print(\"\\t\" + key.title() + \": \" + str(value.title()))"
   ]
  },
  {
   "cell_type": "code",
   "execution_count": null,
   "metadata": {
    "collapsed": true
   },
   "outputs": [],
   "source": []
  },
  {
   "cell_type": "code",
   "execution_count": null,
   "metadata": {
    "collapsed": true
   },
   "outputs": [],
   "source": []
  }
 ],
 "metadata": {
  "kernelspec": {
   "display_name": "Python 3",
   "language": "python",
   "name": "python3"
  },
  "language_info": {
   "codemirror_mode": {
    "name": "ipython",
    "version": 3
   },
   "file_extension": ".py",
   "mimetype": "text/x-python",
   "name": "python",
   "nbconvert_exporter": "python",
   "pygments_lexer": "ipython3",
   "version": "3.6.1"
  }
 },
 "nbformat": 4,
 "nbformat_minor": 2
}
