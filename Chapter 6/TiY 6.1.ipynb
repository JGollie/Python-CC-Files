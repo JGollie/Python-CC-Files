{
 "cells": [
  {
   "cell_type": "code",
   "execution_count": 6,
   "metadata": {},
   "outputs": [
    {
     "name": "stdout",
     "output_type": "stream",
     "text": [
      "{'height': '5 foot 9 inch', 'nationality': 'jamaican', 'gender': 'female', 'sign': 'scorpio'}\n",
      "5 foot 9 inch\n",
      "Jamaican\n",
      "Female\n",
      "Scorpio\n"
     ]
    }
   ],
   "source": [
    "my_peta = {'height': '5 foot 9 inch', 'nationality': 'jamaican', 'gender': 'female', 'sign': 'scorpio'}\n",
    "\n",
    "print(my_peta)\n",
    "print(my_peta['height'])\n",
    "print(my_peta['nationality'].title())\n",
    "print(my_peta['gender'].title())\n",
    "print(my_peta['sign'].title())"
   ]
  },
  {
   "cell_type": "code",
   "execution_count": 32,
   "metadata": {},
   "outputs": [
    {
     "name": "stdout",
     "output_type": "stream",
     "text": [
      "{'jake': 2, 'jonathan': 48, 'peta': 31, 'emmitt': 22, 'sun': 82}\n",
      "Jake's favorite number is 2.\n",
      "Jonathan's favorite number is 48.\n",
      "Peta's favorite number is 31.\n",
      "Emmitt's favorite number is 22.\n",
      "Sun's favorite number is 82.\n"
     ]
    }
   ],
   "source": [
    "favorite_number = {'jake': 2, 'jonathan': 48, 'peta': 31, 'emmitt': 22, 'sun': 82}\n",
    "\n",
    "print(favorite_numbers)\n",
    "\n",
    "print(\"Jake's favorite number is \" + str(favorite_number['jake']) + \".\")\n",
    "print(\"Jonathan's favorite number is \" + str(favorite_number['jonathan']) + \".\")\n",
    "print(\"Peta's favorite number is \" + str(favorite_number['peta']) + \".\")\n",
    "print(\"Emmitt's favorite number is \" + str(favorite_number['emmitt']) + \".\")\n",
    "print(\"Sun's favorite number is \" + str(favorite_number['sun']) + \".\")"
   ]
  },
  {
   "cell_type": "code",
   "execution_count": null,
   "metadata": {
    "collapsed": true
   },
   "outputs": [],
   "source": []
  }
 ],
 "metadata": {
  "kernelspec": {
   "display_name": "Python 3",
   "language": "python",
   "name": "python3"
  },
  "language_info": {
   "codemirror_mode": {
    "name": "ipython",
    "version": 3
   },
   "file_extension": ".py",
   "mimetype": "text/x-python",
   "name": "python",
   "nbconvert_exporter": "python",
   "pygments_lexer": "ipython3",
   "version": "3.6.1"
  }
 },
 "nbformat": 4,
 "nbformat_minor": 2
}
