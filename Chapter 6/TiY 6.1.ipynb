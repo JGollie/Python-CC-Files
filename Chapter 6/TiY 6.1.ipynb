{
 "cells": [
  {
   "cell_type": "code",
   "execution_count": 6,
   "metadata": {},
   "outputs": [
    {
     "name": "stdout",
     "output_type": "stream",
     "text": [
      "{'height': '5 foot 9 inch', 'nationality': 'jamaican', 'gender': 'female', 'sign': 'scorpio'}\n",
      "5 foot 9 inch\n",
      "Jamaican\n",
      "Female\n",
      "Scorpio\n"
     ]
    }
   ],
   "source": [
    "my_peta = {'height': '5 foot 9 inch', 'nationality': 'jamaican', 'gender': 'female', 'sign': 'scorpio'}\n",
    "\n",
    "print(my_peta)\n",
    "print(my_peta['height'])\n",
    "print(my_peta['nationality'].title())\n",
    "print(my_peta['gender'].title())\n",
    "print(my_peta['sign'].title())"
   ]
  },
  {
   "cell_type": "code",
   "execution_count": 32,
   "metadata": {},
   "outputs": [
    {
     "name": "stdout",
     "output_type": "stream",
     "text": [
      "{'jake': 2, 'jonathan': 48, 'peta': 31, 'emmitt': 22, 'sun': 82}\n",
      "Jake's favorite number is 2.\n",
      "Jonathan's favorite number is 48.\n",
      "Peta's favorite number is 31.\n",
      "Emmitt's favorite number is 22.\n",
      "Sun's favorite number is 82.\n"
     ]
    }
   ],
   "source": [
    "favorite_number = {'jake': 2, 'jonathan': 48, 'peta': 31, 'emmitt': 22, 'sun': 82}\n",
    "\n",
    "print(favorite_numbers)\n",
    "\n",
    "print(\"Jake's favorite number is \" + str(favorite_number['jake']) + \".\")\n",
    "print(\"Jonathan's favorite number is \" + str(favorite_number['jonathan']) + \".\")\n",
    "print(\"Peta's favorite number is \" + str(favorite_number['peta']) + \".\")\n",
    "print(\"Emmitt's favorite number is \" + str(favorite_number['emmitt']) + \".\")\n",
    "print(\"Sun's favorite number is \" + str(favorite_number['sun']) + \".\")"
   ]
  },
  {
   "cell_type": "code",
   "execution_count": 47,
   "metadata": {},
   "outputs": [
    {
     "name": "stdout",
     "output_type": "stream",
     "text": [
      "\n",
      "Jake's favorite numbers are:\n",
      "  2\n",
      "  3\n",
      "  4\n",
      "\n",
      "Jonathan's favorite numbers are:\n",
      "  48\n",
      "  16\n",
      "  1\n",
      "\n",
      "Peta's favorite numbers are:\n",
      "  31\n",
      "  10\n",
      "  40\n",
      "\n",
      "Emmitt's favorite numbers are:\n",
      "  22\n",
      "  30\n",
      "  45\n",
      "\n",
      "Sun's favorite numbers are:\n",
      "  82\n",
      "  86\n",
      "  14\n"
     ]
    }
   ],
   "source": [
    "#6.10 Favorite Numbers.\n",
    "#Give each person more than one favorite number.\n",
    "\n",
    "favorite_number = {\n",
    "    'jake': [2, 3, 4],\n",
    "    'jonathan': [48, 16, 1],\n",
    "    'peta': [31, 10, 40],\n",
    "    'emmitt': [22, 30, 45],\n",
    "    'sun': [82, 86, 14],\n",
    "}\n",
    "\n",
    "#Print each person and their favorite numbers.\n",
    "\n",
    "for key, values in favorite_number.items():\n",
    "    print(\"\\n\" + key.title() + \"'s favorite numbers are:\")\n",
    "    for value in values:\n",
    "        print(\"  \" + str(value))"
   ]
  },
  {
   "cell_type": "code",
   "execution_count": null,
   "metadata": {
    "collapsed": true
   },
   "outputs": [],
   "source": []
  }
 ],
 "metadata": {
  "kernelspec": {
   "display_name": "Python 3",
   "language": "python",
   "name": "python3"
  },
  "language_info": {
   "codemirror_mode": {
    "name": "ipython",
    "version": 3
   },
   "file_extension": ".py",
   "mimetype": "text/x-python",
   "name": "python",
   "nbconvert_exporter": "python",
   "pygments_lexer": "ipython3",
   "version": "3.6.1"
  }
 },
 "nbformat": 4,
 "nbformat_minor": 2
}
