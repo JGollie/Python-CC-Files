{
 "cells": [
  {
   "cell_type": "code",
   "execution_count": 18,
   "metadata": {},
   "outputs": [
    {
     "name": "stdout",
     "output_type": "stream",
     "text": [
      "\n",
      "Here's what we know about Houston:\n",
      "\tName: Houston\n",
      "\tState: Texas\n",
      "\tPopulation: 2,300,000\n",
      "\n",
      "Here's what we know about Dallas:\n",
      "\tName: Dallas\n",
      "\tState: Texas\n",
      "\tPopulation: 1,100,000\n",
      "\n",
      "Here's what we know about San Antonio:\n",
      "\tName: San Antonio\n",
      "\tState: Texas\n",
      "\tPopulation: 970,000\n",
      "\n",
      "Here's what we know about Denver:\n",
      "\tName: Denver\n",
      "\tState: Colorado\n",
      "\tPopulation: 1,370,000\n",
      "\n",
      "Here's what we know about New York City:\n",
      "\tName: New York City\n",
      "\tState: New York\n",
      "\tPopulation: 8,970,000\n"
     ]
    }
   ],
   "source": [
    "#Make a list of cities.\n",
    "cities = []\n",
    "\n",
    "#Add cities and information.\n",
    "\n",
    "city = {\n",
    "    'name': 'houston',\n",
    "    'state': 'texas',\n",
    "    'population': '2,300,000',\n",
    "}\n",
    "\n",
    "cities.append(city)\n",
    "\n",
    "city = {\n",
    "    'name': 'dallas',\n",
    "    'state': 'texas',\n",
    "    'population': '1,100,000',\n",
    "}\n",
    "\n",
    "cities.append(city)\n",
    "\n",
    "city = {\n",
    "    'name': 'san antonio',\n",
    "    'state': 'texas',\n",
    "    'population': '970,000',\n",
    "}\n",
    "\n",
    "cities.append(city)\n",
    "\n",
    "city = {\n",
    "    'name': 'denver',\n",
    "    'state': 'colorado',\n",
    "    'population': '1,370,000',\n",
    "}\n",
    "\n",
    "cities.append(city)\n",
    "\n",
    "city = {\n",
    "    'name': 'new york city',\n",
    "    'state': 'new york',\n",
    "    'population': '8,970,000',\n",
    "}\n",
    "\n",
    "cities.append(city)\n",
    "\n",
    "\n",
    "for city in cities:\n",
    "    print(\"\\nHere's what we know about \" + city['name'].title() + \":\")\n",
    "    for key, value in city.items():\n",
    "        print(\"\\t\" + key.title() + \": \" + value.title())"
   ]
  },
  {
   "cell_type": "code",
   "execution_count": null,
   "metadata": {
    "collapsed": true
   },
   "outputs": [],
   "source": []
  }
 ],
 "metadata": {
  "kernelspec": {
   "display_name": "Python 3",
   "language": "python",
   "name": "python3"
  },
  "language_info": {
   "codemirror_mode": {
    "name": "ipython",
    "version": 3
   },
   "file_extension": ".py",
   "mimetype": "text/x-python",
   "name": "python",
   "nbconvert_exporter": "python",
   "pygments_lexer": "ipython3",
   "version": "3.6.1"
  }
 },
 "nbformat": 4,
 "nbformat_minor": 2
}
