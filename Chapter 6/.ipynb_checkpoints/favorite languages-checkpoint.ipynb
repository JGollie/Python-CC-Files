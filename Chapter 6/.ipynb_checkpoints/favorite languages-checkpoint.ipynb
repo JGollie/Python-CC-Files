{
 "cells": [
  {
   "cell_type": "code",
   "execution_count": 25,
   "metadata": {},
   "outputs": [
    {
     "name": "stdout",
     "output_type": "stream",
     "text": [
      "Sarah's favorite language is C.\n"
     ]
    }
   ],
   "source": [
    "favorite_languages = {\n",
    "    'jen': 'python',\n",
    "    'sarah': 'c',\n",
    "    'edward': 'ruby',\n",
    "    'phil': 'python',\n",
    "}\n",
    "\n",
    "print(\"Sarah's favorite language is \" + \n",
    "      favorite_languages['sarah'].title() +\n",
    "      \".\")"
   ]
  },
  {
   "cell_type": "code",
   "execution_count": 26,
   "metadata": {},
   "outputs": [
    {
     "name": "stdout",
     "output_type": "stream",
     "text": [
      "\n",
      "Scientist: Jen\n",
      "Favorite Language: Python\n",
      "\n",
      "Scientist: Sarah\n",
      "Favorite Language: C\n",
      "\n",
      "Scientist: Edward\n",
      "Favorite Language: Ruby\n",
      "\n",
      "Scientist: Phil\n",
      "Favorite Language: Python\n"
     ]
    }
   ],
   "source": [
    "favorite_languages = {\n",
    "    'jen': 'python',\n",
    "    'sarah': 'c',\n",
    "    'edward': 'ruby',\n",
    "    'phil': 'python',\n",
    "}\n",
    "\n",
    "for scientist, languages in favorite_languages.items():\n",
    "    print(\"\\nScientist: \" + scientist.title())\n",
    "    print(\"Favorite Language: \" + languages.title())\n",
    "    "
   ]
  },
  {
   "cell_type": "code",
   "execution_count": 24,
   "metadata": {},
   "outputs": [
    {
     "name": "stdout",
     "output_type": "stream",
     "text": [
      "Jen's favorite language is Python.\n",
      "Sarah's favorite language is C.\n",
      "Edward's favorite language is Ruby.\n",
      "Phil's favorite language is Python.\n"
     ]
    }
   ],
   "source": [
    "favorite_languages = {\n",
    "    'jen': 'python',\n",
    "    'sarah': 'c',\n",
    "    'edward': 'ruby',\n",
    "    'phil': 'python',\n",
    "}\n",
    "\n",
    "for scientist, language in favorite_languages.items():\n",
    "    print(scientist.title() + \"'s\" + \" favorite language is \" +\n",
    "          language.title() + \".\")"
   ]
  },
  {
   "cell_type": "code",
   "execution_count": 17,
   "metadata": {},
   "outputs": [
    {
     "name": "stdout",
     "output_type": "stream",
     "text": [
      "Jen\n",
      "Sarah\n",
      "Edward\n",
      "Phi\n"
     ]
    }
   ],
   "source": [
    "favorite_languages = {\n",
    "    'jen': 'python',\n",
    "    'sarah': 'c',\n",
    "    'edward': 'ruby',\n",
    "    'phi': 'python',\n",
    "}\n",
    "\n",
    "for scientist in favorite_languages.keys():\n",
    "    print(scientist.title())"
   ]
  },
  {
   "cell_type": "code",
   "execution_count": 23,
   "metadata": {},
   "outputs": [
    {
     "name": "stdout",
     "output_type": "stream",
     "text": [
      "Jen\n",
      "Sarah\n",
      "  Hi Sarah, I see your favorite language is C!\n",
      "Edward\n",
      "Phil\n",
      "  Hi Phil, I see your favorite language is Python!\n"
     ]
    }
   ],
   "source": [
    "favorite_languages = {\n",
    "    'jen': 'python',\n",
    "    'sarah': 'c',\n",
    "    'edward': 'ruby',\n",
    "    'phil': 'python',\n",
    "}\n",
    "\n",
    "friends = ['phil', 'sarah']\n",
    "for scientist in favorite_languages.keys():\n",
    "    print(scientist.title())\n",
    "    \n",
    "    if scientist in friends: \n",
    "        print(\"  Hi \" + scientist.title() + \n",
    "             \", I see your favorite language is \" + \n",
    "             favorite_languages[scientist].title() + \"!\")"
   ]
  },
  {
   "cell_type": "code",
   "execution_count": null,
   "metadata": {
    "collapsed": true
   },
   "outputs": [],
   "source": []
  }
 ],
 "metadata": {
  "kernelspec": {
   "display_name": "Python 3",
   "language": "python",
   "name": "python3"
  },
  "language_info": {
   "codemirror_mode": {
    "name": "ipython",
    "version": 3
   },
   "file_extension": ".py",
   "mimetype": "text/x-python",
   "name": "python",
   "nbconvert_exporter": "python",
   "pygments_lexer": "ipython3",
   "version": "3.6.1"
  }
 },
 "nbformat": 4,
 "nbformat_minor": 2
}
