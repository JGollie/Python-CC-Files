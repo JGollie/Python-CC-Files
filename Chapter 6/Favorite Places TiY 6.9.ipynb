{
 "cells": [
  {
   "cell_type": "code",
   "execution_count": 41,
   "metadata": {},
   "outputs": [
    {
     "name": "stdout",
     "output_type": "stream",
     "text": [
      "\n",
      "Ava's favorite places are: \n",
      "\tDublin\n",
      "\tOregon\n",
      "\tDenver\n",
      "\n",
      "Asher's favorite places are: \n",
      "\tFlorida\n",
      "\tTexas\n",
      "\tNew York\n",
      "\n",
      "Peta's favorite places are: \n",
      "\tJamaica\n",
      "\tBelize\n",
      "\tWharton\n"
     ]
    }
   ],
   "source": [
    "favorite_places = {\n",
    "    'Ava': ['dublin', 'oregon', 'denver'],\n",
    "    'Asher': ['florida', 'texas', 'new york'],    \n",
    "    'Peta': ['jamaica', 'belize', 'wharton'],        \n",
    "        }\n",
    "\n",
    "for name, places in favorite_places.items():\n",
    "    print(\"\\n\" + name.title() + \"'s favorite places are: \")\n",
    "    for place in places:\n",
    "        print(\"\\t\" + str(place).title())"
   ]
  },
  {
   "cell_type": "code",
   "execution_count": null,
   "metadata": {
    "collapsed": true
   },
   "outputs": [],
   "source": []
  }
 ],
 "metadata": {
  "kernelspec": {
   "display_name": "Python 3",
   "language": "python",
   "name": "python3"
  },
  "language_info": {
   "codemirror_mode": {
    "name": "ipython",
    "version": 3
   },
   "file_extension": ".py",
   "mimetype": "text/x-python",
   "name": "python",
   "nbconvert_exporter": "python",
   "pygments_lexer": "ipython3",
   "version": "3.6.1"
  }
 },
 "nbformat": 4,
 "nbformat_minor": 2
}
