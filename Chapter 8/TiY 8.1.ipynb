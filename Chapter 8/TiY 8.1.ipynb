{
 "cells": [
  {
   "cell_type": "code",
   "execution_count": 1,
   "metadata": {},
   "outputs": [
    {
     "name": "stdout",
     "output_type": "stream",
     "text": [
      "I've learned how to right my first simple functions.\n"
     ]
    }
   ],
   "source": [
    "def display_message():\n",
    "    \"\"\"display a simple message\"\"\"\n",
    "    print(\"I've learned how to right my first simple functions.\")\n",
    "\n",
    "display_message()"
   ]
  },
  {
   "cell_type": "code",
   "execution_count": 6,
   "metadata": {},
   "outputs": [
    {
     "name": "stdout",
     "output_type": "stream",
     "text": [
      "My favorite book is The Hobbit!\n"
     ]
    }
   ],
   "source": [
    "def favorite_book(headline):\n",
    "    \"\"\"display message with favorite book\"\"\"\n",
    "    print(\"My favorite book is \" + headline.title() + \"!\")\n",
    "\n",
    "favorite_book('The Hobbit')"
   ]
  },
  {
   "cell_type": "code",
   "execution_count": null,
   "metadata": {
    "collapsed": true
   },
   "outputs": [],
   "source": []
  }
 ],
 "metadata": {
  "kernelspec": {
   "display_name": "Python 3",
   "language": "python",
   "name": "python3"
  },
  "language_info": {
   "codemirror_mode": {
    "name": "ipython",
    "version": 3
   },
   "file_extension": ".py",
   "mimetype": "text/x-python",
   "name": "python",
   "nbconvert_exporter": "python",
   "pygments_lexer": "ipython3",
   "version": "3.6.1"
  }
 },
 "nbformat": 4,
 "nbformat_minor": 2
}
