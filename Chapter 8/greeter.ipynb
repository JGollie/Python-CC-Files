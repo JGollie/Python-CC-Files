{
 "cells": [
  {
   "cell_type": "code",
   "execution_count": 1,
   "metadata": {},
   "outputs": [
    {
     "name": "stdout",
     "output_type": "stream",
     "text": [
      "Hello!\n"
     ]
    }
   ],
   "source": [
    "def greet_user():\n",
    "    \"\"\"Display a simple greeting.\"\"\"\n",
    "    print(\"Hello!\")\n",
    "    \n",
    "greet_user()"
   ]
  },
  {
   "cell_type": "code",
   "execution_count": 2,
   "metadata": {},
   "outputs": [
    {
     "name": "stdout",
     "output_type": "stream",
     "text": [
      "Hello, Jesse!\n"
     ]
    }
   ],
   "source": [
    "def greet_user(username):\n",
    "    \"\"\"Dispalay a simple greeting\"\"\"\n",
    "    print(\"Hello, \" + username.title() + \"!\")\n",
    "    \n",
    "greet_user('jesse')"
   ]
  },
  {
   "cell_type": "code",
   "execution_count": null,
   "metadata": {},
   "outputs": [
    {
     "name": "stdout",
     "output_type": "stream",
     "text": [
      "\n",
      "Please tell me your name:\n",
      "First name: Jonathan \n",
      "Last name: Golden\n",
      "\n",
      "Hello, Jonathan  Golden!\n",
      "\n",
      "Please tell me your name:\n",
      "First name: Jonathan\n",
      "Last name: Golden\n",
      "\n",
      "Hello, Jonathan Golden!\n",
      "\n",
      "Please tell me your name:\n"
     ]
    }
   ],
   "source": [
    "def get_formatted_name(first_name, last_name):\n",
    "    \"\"\"Return a full name, neatly formatted.\"\"\"\n",
    "    full_name = first_name + ' ' + last_name\n",
    "    return full_name.title()\n",
    "\n",
    "# This is an infinite loop!\n",
    "while True:\n",
    "    print(\"\\nPlease tell me your name:\")\n",
    "    f_name = input(\"First name: \")\n",
    "    l_name = input(\"Last name: \")\n",
    "    \n",
    "    formatted_name = get_formatted_name(f_name, l_name)\n",
    "    print(\"\\nHello, \" + formatted_name + \"!\")"
   ]
  },
  {
   "cell_type": "code",
   "execution_count": 2,
   "metadata": {},
   "outputs": [
    {
     "name": "stdout",
     "output_type": "stream",
     "text": [
      "\n",
      "Please tell me your name:\n",
      "(enter 'q' at any time to quit)\n",
      "First name: J\n",
      "Last name: Golden\n",
      "\n",
      "Hello, J Golden!\n",
      "\n",
      "Please tell me your name:\n",
      "(enter 'q' at any time to quit)\n",
      "First name: Louis\n",
      "Last name: Anderson\n",
      "\n",
      "Hello, Louis Anderson!\n",
      "\n",
      "Please tell me your name:\n",
      "(enter 'q' at any time to quit)\n",
      "First name: Johnny\n",
      "Last name: Rockets\n",
      "\n",
      "Hello, Johnny Rockets!\n",
      "\n",
      "Please tell me your name:\n",
      "(enter 'q' at any time to quit)\n",
      "First name: q\n"
     ]
    }
   ],
   "source": [
    "def get_formatted_name(first_name, last_name):\n",
    "    \"\"\"Return a full name, neatly formatted.\"\"\"\n",
    "    full_name = first_name + ' ' + last_name\n",
    "    return full_name.title()\n",
    "\n",
    "# This is an infinite loop!\n",
    "while True:\n",
    "    print(\"\\nPlease tell me your name:\")\n",
    "    print(\"(enter 'q' at any time to quit)\")\n",
    "    \n",
    "    f_name = input(\"First name: \")\n",
    "    if f_name == 'q':\n",
    "        break\n",
    "        \n",
    "    l_name = input(\"Last name: \")\n",
    "    if l_name == 'q':\n",
    "        break\n",
    "    \n",
    "    formatted_name = get_formatted_name(f_name, l_name)\n",
    "    print(\"\\nHello, \" + formatted_name + \"!\")\n"
   ]
  },
  {
   "cell_type": "code",
   "execution_count": null,
   "metadata": {
    "collapsed": true
   },
   "outputs": [],
   "source": []
  }
 ],
 "metadata": {
  "kernelspec": {
   "display_name": "Python 3",
   "language": "python",
   "name": "python3"
  },
  "language_info": {
   "codemirror_mode": {
    "name": "ipython",
    "version": 3
   },
   "file_extension": ".py",
   "mimetype": "text/x-python",
   "name": "python",
   "nbconvert_exporter": "python",
   "pygments_lexer": "ipython3",
   "version": "3.6.1"
  }
 },
 "nbformat": 4,
 "nbformat_minor": 2
}
