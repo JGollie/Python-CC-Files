{
 "cells": [
  {
   "cell_type": "code",
   "execution_count": 8,
   "metadata": {},
   "outputs": [
    {
     "name": "stdout",
     "output_type": "stream",
     "text": [
      "Houston, Texas\n",
      "Dallas, Texas\n",
      "Denver, Colorado\n"
     ]
    }
   ],
   "source": [
    "def city_country(city, country):\n",
    "    \"\"\"Print city and country formatted like Houston, Texas\"\"\"\n",
    "    return(city.title() + \", \" + country.title())\n",
    "    \n",
    "city = city_country('houston', 'texas')\n",
    "print(city)\n",
    "\n",
    "city = city_country('dallas', 'texas')\n",
    "print(city)\n",
    "\n",
    "city = city_country('denver', 'colorado')\n",
    "print(city)"
   ]
  },
  {
   "cell_type": "raw",
   "metadata": {},
   "source": []
  },
  {
   "cell_type": "code",
   "execution_count": 18,
   "metadata": {},
   "outputs": [
    {
     "name": "stdout",
     "output_type": "stream",
     "text": [
      "{'artist name': 'the hot boyz', 'album name': 'get it how you live'}\n",
      "{'artist name': 'lil wayne', 'album name': 'the block is hot'}\n",
      "{'artist name': 'celine dion', 'album name': 'my heart will go on'}\n",
      "{'artist name': 'the hot boyz', 'album name': 'get it how you live', 'number of tracks': 15}\n"
     ]
    }
   ],
   "source": [
    "def make_album(a_artist, a_title, tracks=''):\n",
    "    \"\"\"Return artist name and album title.\"\"\"\n",
    "    full_name = {'artist name': a_artist, 'album name': a_title}\n",
    "    if tracks:\n",
    "        full_name['number of tracks'] = tracks\n",
    "    return full_name\n",
    "\n",
    "album = make_album('the hot boyz', 'get it how you live')\n",
    "print(album)\n",
    "\n",
    "album = make_album('lil wayne', 'the block is hot')\n",
    "print(album)\n",
    "\n",
    "album = make_album('celine dion', 'my heart will go on')\n",
    "print(album)\n",
    "\n",
    "album = make_album('the hot boyz', 'get it how you live', 15)\n",
    "print(album)"
   ]
  },
  {
   "cell_type": "code",
   "execution_count": 1,
   "metadata": {},
   "outputs": [
    {
     "name": "stdout",
     "output_type": "stream",
     "text": [
      "\n",
      "What is the artist name? \n",
      "(enter 'q' at any time to quit)\n",
      "Artist Full Name: Chronixx\n",
      "Your favorite album:I Can\n",
      "My favorite album is I Can by Chronixx\n",
      "\n",
      "What is the artist name? \n",
      "(enter 'q' at any time to quit)\n",
      "Artist Full Name: Bob Marley\n",
      "Your favorite album:Roots, Rock, Reggae \n",
      "My favorite album is Roots, Rock, Reggae  by Bob Marley\n",
      "\n",
      "What is the artist name? \n",
      "(enter 'q' at any time to quit)\n",
      "Artist Full Name: q\n"
     ]
    }
   ],
   "source": [
    "def make_album(a_artist, a_title, tracks=''):\n",
    "    \"\"\"Return artist name and album title.\"\"\"\n",
    "    full_name = {'artist name': a_artist, 'album name': a_title}\n",
    "    if tracks:\n",
    "        full_name['number of tracks'] = tracks\n",
    "    return full_name\n",
    "\n",
    "# This is the loop.\n",
    "while True:\n",
    "    print(\"\\nWhat is the artist name? \")\n",
    "    print(\"(enter 'q' at any time to quit)\")\n",
    "    \n",
    "    name = input(\"Artist Full Name: \")\n",
    "    if name == 'q':\n",
    "        break\n",
    "    \n",
    "    album = input(\"Your favorite album:\")\n",
    "    if album == 'q':\n",
    "        break\n",
    "    \n",
    "    formatted_album = make_album(name, album)\n",
    "    print(\"My favorite album is \" + album.title() + \" by \" + name.title())"
   ]
  },
  {
   "cell_type": "code",
   "execution_count": null,
   "metadata": {
    "collapsed": true
   },
   "outputs": [],
   "source": []
  }
 ],
 "metadata": {
  "kernelspec": {
   "display_name": "Python 3",
   "language": "python",
   "name": "python3"
  },
  "language_info": {
   "codemirror_mode": {
    "name": "ipython",
    "version": 3
   },
   "file_extension": ".py",
   "mimetype": "text/x-python",
   "name": "python",
   "nbconvert_exporter": "python",
   "pygments_lexer": "ipython3",
   "version": "3.6.1"
  }
 },
 "nbformat": 4,
 "nbformat_minor": 2
}
