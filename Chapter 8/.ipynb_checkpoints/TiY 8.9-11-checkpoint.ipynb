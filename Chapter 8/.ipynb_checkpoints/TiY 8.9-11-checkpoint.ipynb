{
 "cells": [
  {
   "cell_type": "code",
   "execution_count": 9,
   "metadata": {},
   "outputs": [
    {
     "name": "stdout",
     "output_type": "stream",
     "text": [
      "Welcome David Copperfield to the stage!\n",
      "Welcome David Blane to the stage!\n",
      "Welcome Houdini to the stage!\n"
     ]
    }
   ],
   "source": [
    "def show_magic(names):\n",
    "    for name in names:\n",
    "        msg = \"Welcome \" + name.title() + \" to the stage!\"\n",
    "        print(msg)\n",
    "        \n",
    "magicians = ['david copperfield', 'david blane', 'houdini']    \n",
    "show_magic(magicians)"
   ]
  },
  {
   "cell_type": "code",
   "execution_count": 16,
   "metadata": {},
   "outputs": [
    {
     "name": "stdout",
     "output_type": "stream",
     "text": [
      "Welcome David Copperfield to the stage!\n",
      "Welcome David Blane to the stage!\n",
      "Welcome Houdini to the stage!\n",
      "\n",
      "\n",
      "Welcome Houdini The Great to the stage!\n",
      "Welcome David Blane The Great to the stage!\n",
      "Welcome David Copperfield The Great to the stage!\n"
     ]
    }
   ],
   "source": [
    "magicians = ['david copperfield', 'david blane', 'houdini']    \n",
    "show_magic(magicians)\n",
    "\n",
    "# Make Great.\n",
    "\n",
    "def make_great(magicians):\n",
    "    great_magicians = []\n",
    "    \n",
    "    while magicians:\n",
    "        magician = magicians.pop()\n",
    "        great_magician = magician + \" the great\"\n",
    "        great_magicians.append(great_magician)\n",
    "    \n",
    "    for great_magician in great_magicians:\n",
    "        magicians.append(great_magician)\n",
    "\n",
    "print('\\n')\n",
    "make_great(magicians)\n",
    "show_magic(magicians)"
   ]
  },
  {
   "cell_type": "code",
   "execution_count": 34,
   "metadata": {},
   "outputs": [
    {
     "name": "stdout",
     "output_type": "stream",
     "text": [
      "Welcome David Copperfield to the stage!\n",
      "Welcome David Blane to the stage!\n",
      "Welcome Houdini to the stage!\n",
      "\n",
      "\n",
      "Welcome Houdini The Great to the stage!\n",
      "Welcome David Blane The Great to the stage!\n",
      "Welcome David Copperfield The Great to the stage!\n"
     ]
    }
   ],
   "source": [
    "magicians = ['david copperfield', 'david blane', 'houdini']    \n",
    "show_magic(magicians)\n",
    "\n",
    "# Make Great.\n",
    "\n",
    "def make_great(magicians):\n",
    "    great_magicians = []\n",
    "    \n",
    "    while magicians:\n",
    "        magician = magicians.pop()\n",
    "        great_magician = magician + \" the great\"\n",
    "        great_magicians.append(great_magician)\n",
    "    \n",
    "    for great_magician in great_magicians:\n",
    "        magicians.append(great_magician)\n",
    "    \n",
    "    return(magicians)\n",
    "\n",
    "print('\\n')\n",
    "make_great(magicians)\n",
    "show_magic(magicians)\n",
    "\n"
   ]
  },
  {
   "cell_type": "code",
   "execution_count": null,
   "metadata": {
    "collapsed": true
   },
   "outputs": [],
   "source": []
  }
 ],
 "metadata": {
  "kernelspec": {
   "display_name": "Python 3",
   "language": "python",
   "name": "python3"
  },
  "language_info": {
   "codemirror_mode": {
    "name": "ipython",
    "version": 3
   },
   "file_extension": ".py",
   "mimetype": "text/x-python",
   "name": "python",
   "nbconvert_exporter": "python",
   "pygments_lexer": "ipython3",
   "version": "3.6.1"
  }
 },
 "nbformat": 4,
 "nbformat_minor": 2
}
