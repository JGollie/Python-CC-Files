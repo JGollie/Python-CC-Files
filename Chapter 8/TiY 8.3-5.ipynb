{
 "cells": [
  {
   "cell_type": "code",
   "execution_count": 8,
   "metadata": {},
   "outputs": [
    {
     "name": "stdout",
     "output_type": "stream",
     "text": [
      "\n",
      "I'd like a 'Large' t-shirt with the following message:\n",
      "Jamaica, Jamaica\n"
     ]
    }
   ],
   "source": [
    "def make_shirt(t_size, t_message):\n",
    "    \"\"\"Print shirt with custom message.\"\"\"\n",
    "    print(\"\\nI'd like a \" + \"'\" + t_size + \"'\" + \" t-shirt with the following message:\")\n",
    "    print(t_message)\n",
    "    \n",
    "make_shirt('Large', 'Jamaica, Jamaica')"
   ]
  },
  {
   "cell_type": "code",
   "execution_count": 9,
   "metadata": {},
   "outputs": [
    {
     "name": "stdout",
     "output_type": "stream",
     "text": [
      "\n",
      "I'd like a 'Medium' t-shirt with the following message:\n",
      "Lets Get Ready to Rumble!\n"
     ]
    }
   ],
   "source": [
    "make_shirt(t_size='Medium', t_message='Lets Get Ready to Rumble!')"
   ]
  },
  {
   "cell_type": "code",
   "execution_count": 10,
   "metadata": {},
   "outputs": [
    {
     "name": "stdout",
     "output_type": "stream",
     "text": [
      "\n",
      "I'd like a 'Medium' t-shirt with the following message:\n",
      "I Love Pyton\n"
     ]
    }
   ],
   "source": [
    "def make_shirt(t_size, t_message='I Love Pyton'):\n",
    "    \"\"\"Print shirt with custom message.\"\"\"\n",
    "    print(\"\\nI'd like a \" + \"'\" + t_size + \"'\" + \" t-shirt with the following message:\")\n",
    "    print(t_message)\n",
    "    \n",
    "make_shirt('Medium')"
   ]
  },
  {
   "cell_type": "code",
   "execution_count": 11,
   "metadata": {},
   "outputs": [
    {
     "name": "stdout",
     "output_type": "stream",
     "text": [
      "\n",
      "I'd like a 'Large' t-shirt with the following message:\n",
      "I Love Pyton\n"
     ]
    }
   ],
   "source": [
    "make_shirt('Large')"
   ]
  },
  {
   "cell_type": "code",
   "execution_count": 12,
   "metadata": {},
   "outputs": [
    {
     "name": "stdout",
     "output_type": "stream",
     "text": [
      "\n",
      "I'd like a 'Small' t-shirt with the following message:\n",
      "I love R for Machine Learning\n"
     ]
    }
   ],
   "source": [
    "make_shirt('Small', t_message='I love R for Machine Learning')"
   ]
  },
  {
   "cell_type": "code",
   "execution_count": 16,
   "metadata": {},
   "outputs": [
    {
     "name": "stdout",
     "output_type": "stream",
     "text": [
      "Nashville is in The United States.\n",
      "Orlando is in The United States.\n",
      "Toranto is in Canada.\n"
     ]
    }
   ],
   "source": [
    "def describe_city(c_name, country='The United States'):\n",
    "    \"\"\"Simple sentence with city and it's country.\"\"\"\n",
    "    print(c_name.title() + \" is in \" + country.title() + \".\")\n",
    "    \n",
    "describe_city('Nashville')\n",
    "describe_city('Orlando')\n",
    "describe_city('Toranto', country='Canada')"
   ]
  },
  {
   "cell_type": "code",
   "execution_count": null,
   "metadata": {
    "collapsed": true
   },
   "outputs": [],
   "source": []
  }
 ],
 "metadata": {
  "kernelspec": {
   "display_name": "Python 3",
   "language": "python",
   "name": "python3"
  },
  "language_info": {
   "codemirror_mode": {
    "name": "ipython",
    "version": 3
   },
   "file_extension": ".py",
   "mimetype": "text/x-python",
   "name": "python",
   "nbconvert_exporter": "python",
   "pygments_lexer": "ipython3",
   "version": "3.6.1"
  }
 },
 "nbformat": 4,
 "nbformat_minor": 2
}
