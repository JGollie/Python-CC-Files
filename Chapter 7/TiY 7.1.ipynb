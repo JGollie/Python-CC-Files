{
 "cells": [
  {
   "cell_type": "code",
   "execution_count": 1,
   "metadata": {},
   "outputs": [
    {
     "name": "stdout",
     "output_type": "stream",
     "text": [
      "What kind of car would you like to rent? Bugatti \n",
      "Let me see if I can find you a: Bugatti .\n"
     ]
    }
   ],
   "source": [
    "rental = input(\"What kind of car would you like to rent? \")\n",
    "print(\"Let me see if I can find you a: \" + rental + \".\")"
   ]
  },
  {
   "cell_type": "code",
   "execution_count": 3,
   "metadata": {},
   "outputs": [
    {
     "name": "stdout",
     "output_type": "stream",
     "text": [
      "How many people are in your party: 3\n",
      "We have a table avaliable now.\n"
     ]
    }
   ],
   "source": [
    "party = input(\"How many people are in your party: \")\n",
    "party = int(party)\n",
    "\n",
    "if party > 8:\n",
    "    print(\"You'll have to wait a few minutes for a table.\")\n",
    "else:\n",
    "    print(\"We have a table avaliable now.\")"
   ]
  },
  {
   "cell_type": "code",
   "execution_count": 11,
   "metadata": {},
   "outputs": [
    {
     "name": "stdout",
     "output_type": "stream",
     "text": [
      "Give me a number and I'll let you know if it's divisible by 10: 90\n",
      "\n",
      "90 is divisible by 10; congrats.\n"
     ]
    }
   ],
   "source": [
    "number = input(\"Give me a number and I'll let you know if it's divisible by 10: \")\n",
    "number = int(number)\n",
    "\n",
    "if number % 10 == 0:\n",
    "    print(\"\\n\" + str(number) + \" is divisible by 10; congrats.\")\n",
    "else:\n",
    "    print(\"\\nIm sorry, \" + str(number) + \" is not divisible by 10, try again.\")"
   ]
  },
  {
   "cell_type": "code",
   "execution_count": null,
   "metadata": {
    "collapsed": true
   },
   "outputs": [],
   "source": []
  }
 ],
 "metadata": {
  "kernelspec": {
   "display_name": "Python 3",
   "language": "python",
   "name": "python3"
  },
  "language_info": {
   "codemirror_mode": {
    "name": "ipython",
    "version": 3
   },
   "file_extension": ".py",
   "mimetype": "text/x-python",
   "name": "python",
   "nbconvert_exporter": "python",
   "pygments_lexer": "ipython3",
   "version": "3.6.1"
  }
 },
 "nbformat": 4,
 "nbformat_minor": 2
}
