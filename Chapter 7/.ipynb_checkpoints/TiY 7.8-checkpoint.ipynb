{
 "cells": [
  {
   "cell_type": "code",
   "execution_count": 4,
   "metadata": {},
   "outputs": [
    {
     "name": "stdout",
     "output_type": "stream",
     "text": [
      "JLG Deli is making your Hamburger\n",
      "JLG Deli is making your Gyro\n",
      "JLG Deli is making your Roast Beef\n",
      "JLG Deli is making your Ham\n",
      "JLG Deli is making your Turkey\n",
      "\n",
      "The following sandwiches have been completed: \n",
      "Your Hamburger is ready at the bar.\n",
      "Your Gyro is ready at the bar.\n",
      "Your Roast Beef is ready at the bar.\n",
      "Your Ham is ready at the bar.\n",
      "Your Turkey is ready at the bar.\n"
     ]
    }
   ],
   "source": [
    "sandwich_orders = ['turkey', 'ham', 'roast beef', 'gyro', 'hamburger']\n",
    "finished_sandwiches = []\n",
    "\n",
    "while sandwich_orders:\n",
    "    order_process = sandwich_orders.pop()\n",
    "    \n",
    "    print(\"JLG Deli is making your \" + order_process.title())\n",
    "    finished_sandwiches.append(order_process)\n",
    "    \n",
    "print(\"\\nThe following sandwiches have been completed: \")\n",
    "for finished_sandwich in finished_sandwiches:\n",
    "    print(\"Your \" + finished_sandwich.title() + \" is ready at the bar.\")"
   ]
  },
  {
   "cell_type": "code",
   "execution_count": 8,
   "metadata": {},
   "outputs": [],
   "source": [
    "finished_sandwiches.append('pastrami')\n",
    "finished_sandwiches.append('pastrami')\n",
    "finished_sandwiches.append('pastrami')"
   ]
  },
  {
   "cell_type": "code",
   "execution_count": 9,
   "metadata": {},
   "outputs": [
    {
     "data": {
      "text/plain": [
       "['hamburger',\n",
       " 'gyro',\n",
       " 'roast beef',\n",
       " 'ham',\n",
       " 'turkey',\n",
       " 'pastrami',\n",
       " 'pastrami',\n",
       " 'pastrami',\n",
       " 'pastrami',\n",
       " 'pastrami']"
      ]
     },
     "execution_count": 9,
     "metadata": {},
     "output_type": "execute_result"
    }
   ],
   "source": [
    "finished_sandwiches"
   ]
  },
  {
   "cell_type": "code",
   "execution_count": 31,
   "metadata": {},
   "outputs": [
    {
     "name": "stdout",
     "output_type": "stream",
     "text": [
      "These are the current sandwich orders.\n",
      "\n",
      "JLG Deli has an order for a Turkey sandwich.\n",
      "JLG Deli has an order for a Ham sandwich.\n",
      "JLG Deli has an order for a Roast Beef sandwich.\n",
      "JLG Deli has an order for a Gyro sandwich.\n",
      "JLG Deli has an order for a Hamburger sandwich.\n",
      "JLG Deli has an order for a Pastrami sandwich.\n",
      "JLG Deli has an order for a Pastrami sandwich.\n",
      "JLG Deli has an order for a Pastrami sandwich.\n",
      "\n",
      "The Deli is currently out of Pastrami.\n",
      "\n",
      "JLG Deli is making your Hamburger sandwich.\n",
      "JLG Deli is making your Gyro sandwich.\n",
      "JLG Deli is making your Roast Beef sandwich.\n",
      "JLG Deli is making your Ham sandwich.\n",
      "JLG Deli is making your Turkey sandwich.\n",
      "\n",
      "The following sandwiches have been completed:\n",
      " \n",
      "Your Hamburger is ready at the bar.\n",
      "Your Gyro is ready at the bar.\n",
      "Your Roast Beef is ready at the bar.\n",
      "Your Ham is ready at the bar.\n",
      "Your Turkey is ready at the bar.\n"
     ]
    }
   ],
   "source": [
    "sandwich_orders = ['turkey', 'ham', 'roast beef', 'gyro', 'hamburger', 'pastrami', 'pastrami','pastrami']\n",
    "finished_sandwiches = []\n",
    "\n",
    "print('These are the current sandwich orders:\\n')\n",
    "for sandwich_order in sandwich_orders:\n",
    "    print(\"JLG Deli has an order for a \" + sandwich_order.title() + ' sandwich.')\n",
    "\n",
    "print('\\nThe Deli is currently out of Pastrami.\\n')\n",
    "\n",
    "while sandwich_orders:    \n",
    "    order_process = sandwich_orders.pop()\n",
    "    if order_process == 'pastrami':\n",
    "        continue\n",
    "    \n",
    "    print(\"JLG Deli is making your \" + order_process.title() + \" sandwich.\")\n",
    "    finished_sandwiches.append(order_process)\n",
    "    \n",
    "print(\"\\nThe following sandwiches have been completed:\\n \")\n",
    "for finished_sandwich in finished_sandwiches:\n",
    "    print(\"Your \" + finished_sandwich.title() + \" is ready at the bar.\")\n",
    "    \n",
    "    \n"
   ]
  },
  {
   "cell_type": "code",
   "execution_count": 29,
   "metadata": {},
   "outputs": [
    {
     "data": {
      "text/plain": [
       "[]"
      ]
     },
     "execution_count": 29,
     "metadata": {},
     "output_type": "execute_result"
    }
   ],
   "source": [
    "sandwich_orders\n"
   ]
  },
  {
   "cell_type": "code",
   "execution_count": null,
   "metadata": {},
   "outputs": [
    {
     "name": "stdout",
     "output_type": "stream",
     "text": [
      "\n",
      "What is your name: Jonathan \n",
      "Where would you visit for you dream vacation? Interstellar Space\n",
      "\n",
      "Would anyone else like to take our poll? (yes/ no)yes\n",
      "\n",
      "What is your name: Ava\n",
      "Where would you visit for you dream vacation? The Moon\n",
      "\n",
      "Would anyone else like to take our poll? (yes/ no)yes\n",
      "\n",
      "What is your name: Asher\n",
      "Where would you visit for you dream vacation? Mars\n",
      "\n",
      "Would anyone else like to take our poll? (yes/ no)yes\n",
      "\n",
      "What is your name: Peta\n",
      "Where would you visit for you dream vacation? The Space Station\n",
      "\n",
      "Would anyone else like to take our poll? (yes/ no)yes\n"
     ]
    }
   ],
   "source": [
    "dream_vacation = {}\n",
    "\n",
    "vacationing = True\n",
    "\n",
    "while vacationing:\n",
    "    name = input(\"\\nWhat is your name: \")\n",
    "    location = input(\"Where would you visit for you dream vacation? \")\n",
    "    \n",
    "    dream_vacation[name] = location\n",
    "    \n",
    "    repeat = input(\"\\nWould anyone else like to take our poll? (yes/ no)\")\n",
    "    if repeat == 'no':\n",
    "        vacationing = False\n",
    "        \n",
    "print(\"\\n----  The results of the poll  ----\\n\")\n",
    "for name, location in dream_vacation.items():\n",
    "    print(name + \" is interested in going to \" + location + \".\")\n",
    "    \n",
    "    \n"
   ]
  },
  {
   "cell_type": "code",
   "execution_count": null,
   "metadata": {
    "collapsed": true
   },
   "outputs": [],
   "source": []
  }
 ],
 "metadata": {
  "kernelspec": {
   "display_name": "Python 3",
   "language": "python",
   "name": "python3"
  },
  "language_info": {
   "codemirror_mode": {
    "name": "ipython",
    "version": 3
   },
   "file_extension": ".py",
   "mimetype": "text/x-python",
   "name": "python",
   "nbconvert_exporter": "python",
   "pygments_lexer": "ipython3",
   "version": "3.6.1"
  }
 },
 "nbformat": 4,
 "nbformat_minor": 2
}
