{
 "cells": [
  {
   "cell_type": "code",
   "execution_count": 4,
   "metadata": {},
   "outputs": [
    {
     "name": "stdout",
     "output_type": "stream",
     "text": [
      "\n",
      "What is your name? Jonathan\n",
      "Which mountain would you like to climb someday? Everest\n",
      "Would you like to let another person respond? (yes/ no) yes\n",
      "\n",
      "What is your name? Peta\n",
      "Which mountain would you like to climb someday? Mt. Jamaicaa\n",
      "Would you like to let another person respond? (yes/ no) yes\n",
      "\n",
      "What is your name? Ava\n",
      "Which mountain would you like to climb someday? Grand Canyon\n",
      "Would you like to let another person respond? (yes/ no) yes\n",
      "\n",
      "What is your name? Sam\n",
      "Which mountain would you like to climb someday? Kilamanjaru\n",
      "Would you like to let another person respond? (yes/ no) no\n",
      "\n",
      "--- Poll Results ---\n",
      "Jonathan would like to climb Everest.\n",
      "Peta would like to climb Mt. Jamaicaa.\n",
      "Ava would like to climb Grand Canyon.\n",
      "Sam would like to climb Kilamanjaru.\n"
     ]
    }
   ],
   "source": [
    "responses = {}\n",
    "\n",
    "#Set a flag to indicate the polling is active.\n",
    "\n",
    "polling_active = True\n",
    "\n",
    "while polling_active:\n",
    "    #Prompt for the person' name and response.    \n",
    "    name = input(\"\\nWhat is your name? \")\n",
    "    response = input(\"Which mountain would you like to climb someday? \")\n",
    "    \n",
    "    #Store the response in the dictionary.\n",
    "    responses[name] = response\n",
    "    \n",
    "    #Find out if anyone else is going to take the poll.\n",
    "    repeat = input(\"Would you like to let another person respond? (yes/ no) \")\n",
    "    if repeat == 'no':\n",
    "        polling_active = False\n",
    "        \n",
    "#Polling is complete. Show the results.\n",
    "print(\"\\n--- Poll Results ---\")\n",
    "for name, response in responses.items():\n",
    "    print(name + \" would like to climb \" + response + \".\")"
   ]
  },
  {
   "cell_type": "code",
   "execution_count": 5,
   "metadata": {},
   "outputs": [
    {
     "data": {
      "text/plain": [
       "{'Ava': 'Grand Canyon',\n",
       " 'Jonathan': 'Everest',\n",
       " 'Peta': 'Mt. Jamaicaa',\n",
       " 'Sam': 'Kilamanjaru'}"
      ]
     },
     "execution_count": 5,
     "metadata": {},
     "output_type": "execute_result"
    }
   ],
   "source": [
    "responses"
   ]
  },
  {
   "cell_type": "code",
   "execution_count": null,
   "metadata": {
    "collapsed": true
   },
   "outputs": [],
   "source": []
  }
 ],
 "metadata": {
  "kernelspec": {
   "display_name": "Python 3",
   "language": "python",
   "name": "python3"
  },
  "language_info": {
   "codemirror_mode": {
    "name": "ipython",
    "version": 3
   },
   "file_extension": ".py",
   "mimetype": "text/x-python",
   "name": "python",
   "nbconvert_exporter": "python",
   "pygments_lexer": "ipython3",
   "version": "3.6.1"
  }
 },
 "nbformat": 4,
 "nbformat_minor": 2
}
